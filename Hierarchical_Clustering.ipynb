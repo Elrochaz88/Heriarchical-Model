{
 "cells": [
  {
   "cell_type": "markdown",
   "id": "9cd56ddb-7ed3-4e98-881b-133f418026e9",
   "metadata": {},
   "source": [
    "# Clustering Jerárquico - Hierarchical Clustering"
   ]
  },
  {
   "cell_type": "code",
   "execution_count": 22,
   "id": "02d94912-11a1-4670-8004-31d81be0ff62",
   "metadata": {},
   "outputs": [],
   "source": [
    "import numpy as np #Libreria para realizar calculos matematicos avanzados\n",
    "import pandas as pd #Libreria que contiene funciones para el analisis de datos\n",
    "import matplotlib.pyplot as plt #Libreria para crear graficos de buena calidad\n",
    "\n",
    "import scipy.cluster.hierarchy as sch #Importamos la libreria scipy que contiene el modelo hierarchy\n",
    "from scipy.cluster.hierarchy import dendrogram, linkage, fcluster #Especificamos que funciones necesitamos de dicha libreria\n",
    "\n",
    "import seaborn as sns\n",
    "\n",
    "# librerías de para evaluar el modelo\n",
    "from sklearn.metrics import silhouette_score, calinski_harabasz_score, davies_bouldin_score\n",
    "\n",
    "#Esta linea nos ayuda a desplegar las graficas en el archivo/notebook\n",
    "%matplotlib inline\n"
   ]
  },
  {
   "cell_type": "markdown",
   "id": "79a0f0da-86af-471e-8860-08f82020d2d8",
   "metadata": {},
   "source": [
    "Importamos los datos"
   ]
  },
  {
   "cell_type": "code",
   "execution_count": 4,
   "id": "69189f73-5945-4aea-ab56-1ab550f525bd",
   "metadata": {},
   "outputs": [],
   "source": [
    "Mall_Customers=pd.read_csv('Mall_Customers.csv', engine='python')"
   ]
  },
  {
   "cell_type": "markdown",
   "id": "abd92123-5ae3-484b-a983-03bd3db32a95",
   "metadata": {},
   "source": [
    "Visualizamos el tipo de variables que contiene el archivo Mall_Customers"
   ]
  },
  {
   "cell_type": "code",
   "execution_count": 5,
   "id": "4fe4db16-9293-4809-a102-aac6f4f3c52f",
   "metadata": {},
   "outputs": [
    {
     "name": "stdout",
     "output_type": "stream",
     "text": [
      "<class 'pandas.core.frame.DataFrame'>\n",
      "RangeIndex: 200 entries, 0 to 199\n",
      "Data columns (total 5 columns):\n",
      " #   Column                  Non-Null Count  Dtype \n",
      "---  ------                  --------------  ----- \n",
      " 0   CustomerID              200 non-null    int64 \n",
      " 1   Gender                  200 non-null    object\n",
      " 2   Age                     200 non-null    int64 \n",
      " 3   Annual Income (k$)      200 non-null    int64 \n",
      " 4   Spending Score (1-100)  200 non-null    int64 \n",
      "dtypes: int64(4), object(1)\n",
      "memory usage: 7.9+ KB\n"
     ]
    }
   ],
   "source": [
    "Mall_Customers.info()"
   ]
  },
  {
   "cell_type": "markdown",
   "id": "8ee1bdc2-54e2-44be-a4e3-a881d2b83e62",
   "metadata": {},
   "source": [
    "Desplegamos las filas"
   ]
  },
  {
   "cell_type": "code",
   "execution_count": 6,
   "id": "13c4f4d3-7a71-4935-b741-f239d285344f",
   "metadata": {},
   "outputs": [
    {
     "data": {
      "text/html": [
       "<div>\n",
       "<style scoped>\n",
       "    .dataframe tbody tr th:only-of-type {\n",
       "        vertical-align: middle;\n",
       "    }\n",
       "\n",
       "    .dataframe tbody tr th {\n",
       "        vertical-align: top;\n",
       "    }\n",
       "\n",
       "    .dataframe thead th {\n",
       "        text-align: right;\n",
       "    }\n",
       "</style>\n",
       "<table border=\"1\" class=\"dataframe\">\n",
       "  <thead>\n",
       "    <tr style=\"text-align: right;\">\n",
       "      <th></th>\n",
       "      <th>CustomerID</th>\n",
       "      <th>Gender</th>\n",
       "      <th>Age</th>\n",
       "      <th>Annual Income (k$)</th>\n",
       "      <th>Spending Score (1-100)</th>\n",
       "    </tr>\n",
       "  </thead>\n",
       "  <tbody>\n",
       "    <tr>\n",
       "      <th>0</th>\n",
       "      <td>1</td>\n",
       "      <td>Male</td>\n",
       "      <td>19</td>\n",
       "      <td>15</td>\n",
       "      <td>39</td>\n",
       "    </tr>\n",
       "    <tr>\n",
       "      <th>1</th>\n",
       "      <td>2</td>\n",
       "      <td>Male</td>\n",
       "      <td>21</td>\n",
       "      <td>15</td>\n",
       "      <td>81</td>\n",
       "    </tr>\n",
       "    <tr>\n",
       "      <th>2</th>\n",
       "      <td>3</td>\n",
       "      <td>Female</td>\n",
       "      <td>20</td>\n",
       "      <td>16</td>\n",
       "      <td>6</td>\n",
       "    </tr>\n",
       "    <tr>\n",
       "      <th>3</th>\n",
       "      <td>4</td>\n",
       "      <td>Female</td>\n",
       "      <td>23</td>\n",
       "      <td>16</td>\n",
       "      <td>77</td>\n",
       "    </tr>\n",
       "    <tr>\n",
       "      <th>4</th>\n",
       "      <td>5</td>\n",
       "      <td>Female</td>\n",
       "      <td>31</td>\n",
       "      <td>17</td>\n",
       "      <td>40</td>\n",
       "    </tr>\n",
       "  </tbody>\n",
       "</table>\n",
       "</div>"
      ],
      "text/plain": [
       "   CustomerID  Gender  Age  Annual Income (k$)  Spending Score (1-100)\n",
       "0           1    Male   19                  15                      39\n",
       "1           2    Male   21                  15                      81\n",
       "2           3  Female   20                  16                       6\n",
       "3           4  Female   23                  16                      77\n",
       "4           5  Female   31                  17                      40"
      ]
     },
     "execution_count": 6,
     "metadata": {},
     "output_type": "execute_result"
    }
   ],
   "source": [
    "Mall_Customers.head()"
   ]
  },
  {
   "cell_type": "code",
   "execution_count": 7,
   "id": "7aa919c4-e106-4c89-881a-941fec1911ac",
   "metadata": {},
   "outputs": [
    {
     "data": {
      "text/plain": [
       "0        1\n",
       "1        2\n",
       "2        3\n",
       "3        4\n",
       "4        5\n",
       "      ... \n",
       "195    196\n",
       "196    197\n",
       "197    198\n",
       "198    199\n",
       "199    200\n",
       "Name: CustomerID, Length: 200, dtype: int64"
      ]
     },
     "execution_count": 7,
     "metadata": {},
     "output_type": "execute_result"
    }
   ],
   "source": [
    "Mall_Customers['CustomerID']"
   ]
  },
  {
   "cell_type": "code",
   "execution_count": 8,
   "id": "18dffa6b-dbca-4eee-bc62-9fdd2e9a5487",
   "metadata": {},
   "outputs": [
    {
     "data": {
      "text/plain": [
       "<Axes: xlabel='Gender', ylabel='Spending Score (1-100)'>"
      ]
     },
     "execution_count": 8,
     "metadata": {},
     "output_type": "execute_result"
    },
    {
     "data": {
      "image/png": "[encoded data removed]",
      "text/plain": [
       "<Figure size 640x480 with 1 Axes>"
      ]
     },
     "metadata": {},
     "output_type": "display_data"
    }
   ],
   "source": [
    "#Generamos un grafico de barras para analizar los datos\n",
    "sns.barplot(data = Mall_Customers,x='Gender',y='Spending Score (1-100)')"
   ]
  },
  {
   "cell_type": "code",
   "execution_count": 9,
   "id": "cb891719-2748-494b-980a-b285fcf24617",
   "metadata": {},
   "outputs": [
    {
     "name": "stderr",
     "output_type": "stream",
     "text": [
      "C:\\Users\\wolfx\\anaconda3\\Lib\\site-packages\\seaborn\\_oldcore.py:1119: FutureWarning: use_inf_as_na option is deprecated and will be removed in a future version. Convert inf values to NaN before operating instead.\n",
      "  with pd.option_context('mode.use_inf_as_na', True):\n",
      "C:\\Users\\wolfx\\anaconda3\\Lib\\site-packages\\seaborn\\_oldcore.py:1119: FutureWarning: use_inf_as_na option is deprecated and will be removed in a future version. Convert inf values to NaN before operating instead.\n",
      "  with pd.option_context('mode.use_inf_as_na', True):\n"
     ]
    },
    {
     "data": {
      "text/plain": [
       "<seaborn.axisgrid.JointGrid at 0x1801a6bb1d0>"
      ]
     },
     "execution_count": 9,
     "metadata": {},
     "output_type": "execute_result"
    },
    {
     "data": {
      "image/png": "[encoded data removed]",
      "text/plain": [
       "<Figure size 600x600 with 3 Axes>"
      ]
     },
     "metadata": {},
     "output_type": "display_data"
    }
   ],
   "source": [
    "#Generamos un grafico de dispersion para analizar los valores atipicos del dataset\n",
    "sns.jointplot(x='Annual Income (k$)',y='Spending Score (1-100)',data=Mall_Customers,hue='Age')"
   ]
  },
  {
   "cell_type": "markdown",
   "id": "626519db-71bc-4612-a747-ba243c273e9a",
   "metadata": {},
   "source": [
    "Para llevar a cabo el analisis jerarquico extraemos primero los datos"
   ]
  },
  {
   "cell_type": "code",
   "execution_count": 10,
   "id": "f1a7156b-8007-4249-9505-5fc9ba3d2947",
   "metadata": {},
   "outputs": [
    {
     "data": {
      "text/plain": [
       "array([[1, 'Male', 19, 15, 39],\n",
       "       [2, 'Male', 21, 15, 81],\n",
       "       [3, 'Female', 20, 16, 6],\n",
       "       [4, 'Female', 23, 16, 77],\n",
       "       [5, 'Female', 31, 17, 40],\n",
       "       [6, 'Female', 22, 17, 76],\n",
       "       [7, 'Female', 35, 18, 6],\n",
       "       [8, 'Female', 23, 18, 94],\n",
       "       [9, 'Male', 64, 19, 3],\n",
       "       [10, 'Female', 30, 19, 72],\n",
       "       [11, 'Male', 67, 19, 14],\n",
       "       [12, 'Female', 35, 19, 99],\n",
       "       [13, 'Female', 58, 20, 15],\n",
       "       [14, 'Female', 24, 20, 77],\n",
       "       [15, 'Male', 37, 20, 13],\n",
       "       [16, 'Male', 22, 20, 79],\n",
       "       [17, 'Female', 35, 21, 35],\n",
       "       [18, 'Male', 20, 21, 66],\n",
       "       [19, 'Male', 52, 23, 29],\n",
       "       [20, 'Female', 35, 23, 98],\n",
       "       [21, 'Male', 35, 24, 35],\n",
       "       [22, 'Male', 25, 24, 73],\n",
       "       [23, 'Female', 46, 25, 5],\n",
       "       [24, 'Male', 31, 25, 73],\n",
       "       [25, 'Female', 54, 28, 14],\n",
       "       [26, 'Male', 29, 28, 82],\n",
       "       [27, 'Female', 45, 28, 32],\n",
       "       [28, 'Male', 35, 28, 61],\n",
       "       [29, 'Female', 40, 29, 31],\n",
       "       [30, 'Female', 23, 29, 87],\n",
       "       [31, 'Male', 60, 30, 4],\n",
       "       [32, 'Female', 21, 30, 73],\n",
       "       [33, 'Male', 53, 33, 4],\n",
       "       [34, 'Male', 18, 33, 92],\n",
       "       [35, 'Female', 49, 33, 14],\n",
       "       [36, 'Female', 21, 33, 81],\n",
       "       [37, 'Female', 42, 34, 17],\n",
       "       [38, 'Female', 30, 34, 73],\n",
       "       [39, 'Female', 36, 37, 26],\n",
       "       [40, 'Female', 20, 37, 75],\n",
       "       [41, 'Female', 65, 38, 35],\n",
       "       [42, 'Male', 24, 38, 92],\n",
       "       [43, 'Male', 48, 39, 36],\n",
       "       [44, 'Female', 31, 39, 61],\n",
       "       [45, 'Female', 49, 39, 28],\n",
       "       [46, 'Female', 24, 39, 65],\n",
       "       [47, 'Female', 50, 40, 55],\n",
       "       [48, 'Female', 27, 40, 47],\n",
       "       [49, 'Female', 29, 40, 42],\n",
       "       [50, 'Female', 31, 40, 42],\n",
       "       [51, 'Female', 49, 42, 52],\n",
       "       [52, 'Male', 33, 42, 60],\n",
       "       [53, 'Female', 31, 43, 54],\n",
       "       [54, 'Male', 59, 43, 60],\n",
       "       [55, 'Female', 50, 43, 45],\n",
       "       [56, 'Male', 47, 43, 41],\n",
       "       [57, 'Female', 51, 44, 50],\n",
       "       [58, 'Male', 69, 44, 46],\n",
       "       [59, 'Female', 27, 46, 51],\n",
       "       [60, 'Male', 53, 46, 46],\n",
       "       [61, 'Male', 70, 46, 56],\n",
       "       [62, 'Male', 19, 46, 55],\n",
       "       [63, 'Female', 67, 47, 52],\n",
       "       [64, 'Female', 54, 47, 59],\n",
       "       [65, 'Male', 63, 48, 51],\n",
       "       [66, 'Male', 18, 48, 59],\n",
       "       [67, 'Female', 43, 48, 50],\n",
       "       [68, 'Female', 68, 48, 48],\n",
       "       [69, 'Male', 19, 48, 59],\n",
       "       [70, 'Female', 32, 48, 47],\n",
       "       [71, 'Male', 70, 49, 55],\n",
       "       [72, 'Female', 47, 49, 42],\n",
       "       [73, 'Female', 60, 50, 49],\n",
       "       [74, 'Female', 60, 50, 56],\n",
       "       [75, 'Male', 59, 54, 47],\n",
       "       [76, 'Male', 26, 54, 54],\n",
       "       [77, 'Female', 45, 54, 53],\n",
       "       [78, 'Male', 40, 54, 48],\n",
       "       [79, 'Female', 23, 54, 52],\n",
       "       [80, 'Female', 49, 54, 42],\n",
       "       [81, 'Male', 57, 54, 51],\n",
       "       [82, 'Male', 38, 54, 55],\n",
       "       [83, 'Male', 67, 54, 41],\n",
       "       [84, 'Female', 46, 54, 44],\n",
       "       [85, 'Female', 21, 54, 57],\n",
       "       [86, 'Male', 48, 54, 46],\n",
       "       [87, 'Female', 55, 57, 58],\n",
       "       [88, 'Female', 22, 57, 55],\n",
       "       [89, 'Female', 34, 58, 60],\n",
       "       [90, 'Female', 50, 58, 46],\n",
       "       [91, 'Female', 68, 59, 55],\n",
       "       [92, 'Male', 18, 59, 41],\n",
       "       [93, 'Male', 48, 60, 49],\n",
       "       [94, 'Female', 40, 60, 40],\n",
       "       [95, 'Female', 32, 60, 42],\n",
       "       [96, 'Male', 24, 60, 52],\n",
       "       [97, 'Female', 47, 60, 47],\n",
       "       [98, 'Female', 27, 60, 50],\n",
       "       [99, 'Male', 48, 61, 42],\n",
       "       [100, 'Male', 20, 61, 49],\n",
       "       [101, 'Female', 23, 62, 41],\n",
       "       [102, 'Female', 49, 62, 48],\n",
       "       [103, 'Male', 67, 62, 59],\n",
       "       [104, 'Male', 26, 62, 55],\n",
       "       [105, 'Male', 49, 62, 56],\n",
       "       [106, 'Female', 21, 62, 42],\n",
       "       [107, 'Female', 66, 63, 50],\n",
       "       [108, 'Male', 54, 63, 46],\n",
       "       [109, 'Male', 68, 63, 43],\n",
       "       [110, 'Male', 66, 63, 48],\n",
       "       [111, 'Male', 65, 63, 52],\n",
       "       [112, 'Female', 19, 63, 54],\n",
       "       [113, 'Female', 38, 64, 42],\n",
       "       [114, 'Male', 19, 64, 46],\n",
       "       [115, 'Female', 18, 65, 48],\n",
       "       [116, 'Female', 19, 65, 50],\n",
       "       [117, 'Female', 63, 65, 43],\n",
       "       [118, 'Female', 49, 65, 59],\n",
       "       [119, 'Female', 51, 67, 43],\n",
       "       [120, 'Female', 50, 67, 57],\n",
       "       [121, 'Male', 27, 67, 56],\n",
       "       [122, 'Female', 38, 67, 40],\n",
       "       [123, 'Female', 40, 69, 58],\n",
       "       [124, 'Male', 39, 69, 91],\n",
       "       [125, 'Female', 23, 70, 29],\n",
       "       [126, 'Female', 31, 70, 77],\n",
       "       [127, 'Male', 43, 71, 35],\n",
       "       [128, 'Male', 40, 71, 95],\n",
       "       [129, 'Male', 59, 71, 11],\n",
       "       [130, 'Male', 38, 71, 75],\n",
       "       [131, 'Male', 47, 71, 9],\n",
       "       [132, 'Male', 39, 71, 75],\n",
       "       [133, 'Female', 25, 72, 34],\n",
       "       [134, 'Female', 31, 72, 71],\n",
       "       [135, 'Male', 20, 73, 5],\n",
       "       [136, 'Female', 29, 73, 88],\n",
       "       [137, 'Female', 44, 73, 7],\n",
       "       [138, 'Male', 32, 73, 73],\n",
       "       [139, 'Male', 19, 74, 10],\n",
       "       [140, 'Female', 35, 74, 72],\n",
       "       [141, 'Female', 57, 75, 5],\n",
       "       [142, 'Male', 32, 75, 93],\n",
       "       [143, 'Female', 28, 76, 40],\n",
       "       [144, 'Female', 32, 76, 87],\n",
       "       [145, 'Male', 25, 77, 12],\n",
       "       [146, 'Male', 28, 77, 97],\n",
       "       [147, 'Male', 48, 77, 36],\n",
       "       [148, 'Female', 32, 77, 74],\n",
       "       [149, 'Female', 34, 78, 22],\n",
       "       [150, 'Male', 34, 78, 90],\n",
       "       [151, 'Male', 43, 78, 17],\n",
       "       [152, 'Male', 39, 78, 88],\n",
       "       [153, 'Female', 44, 78, 20],\n",
       "       [154, 'Female', 38, 78, 76],\n",
       "       [155, 'Female', 47, 78, 16],\n",
       "       [156, 'Female', 27, 78, 89],\n",
       "       [157, 'Male', 37, 78, 1],\n",
       "       [158, 'Female', 30, 78, 78],\n",
       "       [159, 'Male', 34, 78, 1],\n",
       "       [160, 'Female', 30, 78, 73],\n",
       "       [161, 'Female', 56, 79, 35],\n",
       "       [162, 'Female', 29, 79, 83],\n",
       "       [163, 'Male', 19, 81, 5],\n",
       "       [164, 'Female', 31, 81, 93],\n",
       "       [165, 'Male', 50, 85, 26],\n",
       "       [166, 'Female', 36, 85, 75],\n",
       "       [167, 'Male', 42, 86, 20],\n",
       "       [168, 'Female', 33, 86, 95],\n",
       "       [169, 'Female', 36, 87, 27],\n",
       "       [170, 'Male', 32, 87, 63],\n",
       "       [171, 'Male', 40, 87, 13],\n",
       "       [172, 'Male', 28, 87, 75],\n",
       "       [173, 'Male', 36, 87, 10],\n",
       "       [174, 'Male', 36, 87, 92],\n",
       "       [175, 'Female', 52, 88, 13],\n",
       "       [176, 'Female', 30, 88, 86],\n",
       "       [177, 'Male', 58, 88, 15],\n",
       "       [178, 'Male', 27, 88, 69],\n",
       "       [179, 'Male', 59, 93, 14],\n",
       "       [180, 'Male', 35, 93, 90],\n",
       "       [181, 'Female', 37, 97, 32],\n",
       "       [182, 'Female', 32, 97, 86],\n",
       "       [183, 'Male', 46, 98, 15],\n",
       "       [184, 'Female', 29, 98, 88],\n",
       "       [185, 'Female', 41, 99, 39],\n",
       "       [186, 'Male', 30, 99, 97],\n",
       "       [187, 'Female', 54, 101, 24],\n",
       "       [188, 'Male', 28, 101, 68],\n",
       "       [189, 'Female', 41, 103, 17],\n",
       "       [190, 'Female', 36, 103, 85],\n",
       "       [191, 'Female', 34, 103, 23],\n",
       "       [192, 'Female', 32, 103, 69],\n",
       "       [193, 'Male', 33, 113, 8],\n",
       "       [194, 'Female', 38, 113, 91],\n",
       "       [195, 'Female', 47, 120, 16],\n",
       "       [196, 'Female', 35, 120, 79],\n",
       "       [197, 'Female', 45, 126, 28],\n",
       "       [198, 'Male', 32, 126, 74],\n",
       "       [199, 'Male', 32, 137, 18],\n",
       "       [200, 'Male', 30, 137, 83]], dtype=object)"
      ]
     },
     "execution_count": 10,
     "metadata": {},
     "output_type": "execute_result"
    }
   ],
   "source": [
    "Datos = Mall_Customers.iloc[:, [0,1,2,3,4]].values #Generamos un array en el cual organizamos los datos extraidos en las 5 columnas\n",
    "Datos"
   ]
  },
  {
   "cell_type": "code",
   "execution_count": 11,
   "id": "edaa3dc3-31da-4615-9501-41589d1ce822",
   "metadata": {},
   "outputs": [
    {
     "data": {
      "text/plain": [
       "array([0, 1], dtype=int64)"
      ]
     },
     "execution_count": 11,
     "metadata": {},
     "output_type": "execute_result"
    }
   ],
   "source": [
    "#Reemplazamos los datos que son de tipo objeto (Male, Female) por 0 y 1\n",
    "Mall_Customers['Gender'].replace({'Male':0,'Female':1},inplace=True)\n",
    "Mall_Customers['Gender'].unique()"
   ]
  },
  {
   "cell_type": "code",
   "execution_count": 12,
   "id": "3c200505-e0d0-4bd6-accd-409560904d22",
   "metadata": {},
   "outputs": [
    {
     "data": {
      "text/plain": [
       "dtype('float64')"
      ]
     },
     "execution_count": 12,
     "metadata": {},
     "output_type": "execute_result"
    }
   ],
   "source": [
    "#Cambiamos el tipo de dato de la columna Gender de entero a float\n",
    "Mall_Customers['Gender'].astype(float).dtypes"
   ]
  },
  {
   "cell_type": "code",
   "execution_count": 13,
   "id": "7060ad99-c4a6-49c0-8d3a-dec6dd726f66",
   "metadata": {},
   "outputs": [
    {
     "data": {
      "text/plain": [
       "array([[  1,   0,  19,  15,  39],\n",
       "       [  2,   0,  21,  15,  81],\n",
       "       [  3,   1,  20,  16,   6],\n",
       "       [  4,   1,  23,  16,  77],\n",
       "       [  5,   1,  31,  17,  40],\n",
       "       [  6,   1,  22,  17,  76],\n",
       "       [  7,   1,  35,  18,   6],\n",
       "       [  8,   1,  23,  18,  94],\n",
       "       [  9,   0,  64,  19,   3],\n",
       "       [ 10,   1,  30,  19,  72],\n",
       "       [ 11,   0,  67,  19,  14],\n",
       "       [ 12,   1,  35,  19,  99],\n",
       "       [ 13,   1,  58,  20,  15],\n",
       "       [ 14,   1,  24,  20,  77],\n",
       "       [ 15,   0,  37,  20,  13],\n",
       "       [ 16,   0,  22,  20,  79],\n",
       "       [ 17,   1,  35,  21,  35],\n",
       "       [ 18,   0,  20,  21,  66],\n",
       "       [ 19,   0,  52,  23,  29],\n",
       "       [ 20,   1,  35,  23,  98],\n",
       "       [ 21,   0,  35,  24,  35],\n",
       "       [ 22,   0,  25,  24,  73],\n",
       "       [ 23,   1,  46,  25,   5],\n",
       "       [ 24,   0,  31,  25,  73],\n",
       "       [ 25,   1,  54,  28,  14],\n",
       "       [ 26,   0,  29,  28,  82],\n",
       "       [ 27,   1,  45,  28,  32],\n",
       "       [ 28,   0,  35,  28,  61],\n",
       "       [ 29,   1,  40,  29,  31],\n",
       "       [ 30,   1,  23,  29,  87],\n",
       "       [ 31,   0,  60,  30,   4],\n",
       "       [ 32,   1,  21,  30,  73],\n",
       "       [ 33,   0,  53,  33,   4],\n",
       "       [ 34,   0,  18,  33,  92],\n",
       "       [ 35,   1,  49,  33,  14],\n",
       "       [ 36,   1,  21,  33,  81],\n",
       "       [ 37,   1,  42,  34,  17],\n",
       "       [ 38,   1,  30,  34,  73],\n",
       "       [ 39,   1,  36,  37,  26],\n",
       "       [ 40,   1,  20,  37,  75],\n",
       "       [ 41,   1,  65,  38,  35],\n",
       "       [ 42,   0,  24,  38,  92],\n",
       "       [ 43,   0,  48,  39,  36],\n",
       "       [ 44,   1,  31,  39,  61],\n",
       "       [ 45,   1,  49,  39,  28],\n",
       "       [ 46,   1,  24,  39,  65],\n",
       "       [ 47,   1,  50,  40,  55],\n",
       "       [ 48,   1,  27,  40,  47],\n",
       "       [ 49,   1,  29,  40,  42],\n",
       "       [ 50,   1,  31,  40,  42],\n",
       "       [ 51,   1,  49,  42,  52],\n",
       "       [ 52,   0,  33,  42,  60],\n",
       "       [ 53,   1,  31,  43,  54],\n",
       "       [ 54,   0,  59,  43,  60],\n",
       "       [ 55,   1,  50,  43,  45],\n",
       "       [ 56,   0,  47,  43,  41],\n",
       "       [ 57,   1,  51,  44,  50],\n",
       "       [ 58,   0,  69,  44,  46],\n",
       "       [ 59,   1,  27,  46,  51],\n",
       "       [ 60,   0,  53,  46,  46],\n",
       "       [ 61,   0,  70,  46,  56],\n",
       "       [ 62,   0,  19,  46,  55],\n",
       "       [ 63,   1,  67,  47,  52],\n",
       "       [ 64,   1,  54,  47,  59],\n",
       "       [ 65,   0,  63,  48,  51],\n",
       "       [ 66,   0,  18,  48,  59],\n",
       "       [ 67,   1,  43,  48,  50],\n",
       "       [ 68,   1,  68,  48,  48],\n",
       "       [ 69,   0,  19,  48,  59],\n",
       "       [ 70,   1,  32,  48,  47],\n",
       "       [ 71,   0,  70,  49,  55],\n",
       "       [ 72,   1,  47,  49,  42],\n",
       "       [ 73,   1,  60,  50,  49],\n",
       "       [ 74,   1,  60,  50,  56],\n",
       "       [ 75,   0,  59,  54,  47],\n",
       "       [ 76,   0,  26,  54,  54],\n",
       "       [ 77,   1,  45,  54,  53],\n",
       "       [ 78,   0,  40,  54,  48],\n",
       "       [ 79,   1,  23,  54,  52],\n",
       "       [ 80,   1,  49,  54,  42],\n",
       "       [ 81,   0,  57,  54,  51],\n",
       "       [ 82,   0,  38,  54,  55],\n",
       "       [ 83,   0,  67,  54,  41],\n",
       "       [ 84,   1,  46,  54,  44],\n",
       "       [ 85,   1,  21,  54,  57],\n",
       "       [ 86,   0,  48,  54,  46],\n",
       "       [ 87,   1,  55,  57,  58],\n",
       "       [ 88,   1,  22,  57,  55],\n",
       "       [ 89,   1,  34,  58,  60],\n",
       "       [ 90,   1,  50,  58,  46],\n",
       "       [ 91,   1,  68,  59,  55],\n",
       "       [ 92,   0,  18,  59,  41],\n",
       "       [ 93,   0,  48,  60,  49],\n",
       "       [ 94,   1,  40,  60,  40],\n",
       "       [ 95,   1,  32,  60,  42],\n",
       "       [ 96,   0,  24,  60,  52],\n",
       "       [ 97,   1,  47,  60,  47],\n",
       "       [ 98,   1,  27,  60,  50],\n",
       "       [ 99,   0,  48,  61,  42],\n",
       "       [100,   0,  20,  61,  49],\n",
       "       [101,   1,  23,  62,  41],\n",
       "       [102,   1,  49,  62,  48],\n",
       "       [103,   0,  67,  62,  59],\n",
       "       [104,   0,  26,  62,  55],\n",
       "       [105,   0,  49,  62,  56],\n",
       "       [106,   1,  21,  62,  42],\n",
       "       [107,   1,  66,  63,  50],\n",
       "       [108,   0,  54,  63,  46],\n",
       "       [109,   0,  68,  63,  43],\n",
       "       [110,   0,  66,  63,  48],\n",
       "       [111,   0,  65,  63,  52],\n",
       "       [112,   1,  19,  63,  54],\n",
       "       [113,   1,  38,  64,  42],\n",
       "       [114,   0,  19,  64,  46],\n",
       "       [115,   1,  18,  65,  48],\n",
       "       [116,   1,  19,  65,  50],\n",
       "       [117,   1,  63,  65,  43],\n",
       "       [118,   1,  49,  65,  59],\n",
       "       [119,   1,  51,  67,  43],\n",
       "       [120,   1,  50,  67,  57],\n",
       "       [121,   0,  27,  67,  56],\n",
       "       [122,   1,  38,  67,  40],\n",
       "       [123,   1,  40,  69,  58],\n",
       "       [124,   0,  39,  69,  91],\n",
       "       [125,   1,  23,  70,  29],\n",
       "       [126,   1,  31,  70,  77],\n",
       "       [127,   0,  43,  71,  35],\n",
       "       [128,   0,  40,  71,  95],\n",
       "       [129,   0,  59,  71,  11],\n",
       "       [130,   0,  38,  71,  75],\n",
       "       [131,   0,  47,  71,   9],\n",
       "       [132,   0,  39,  71,  75],\n",
       "       [133,   1,  25,  72,  34],\n",
       "       [134,   1,  31,  72,  71],\n",
       "       [135,   0,  20,  73,   5],\n",
       "       [136,   1,  29,  73,  88],\n",
       "       [137,   1,  44,  73,   7],\n",
       "       [138,   0,  32,  73,  73],\n",
       "       [139,   0,  19,  74,  10],\n",
       "       [140,   1,  35,  74,  72],\n",
       "       [141,   1,  57,  75,   5],\n",
       "       [142,   0,  32,  75,  93],\n",
       "       [143,   1,  28,  76,  40],\n",
       "       [144,   1,  32,  76,  87],\n",
       "       [145,   0,  25,  77,  12],\n",
       "       [146,   0,  28,  77,  97],\n",
       "       [147,   0,  48,  77,  36],\n",
       "       [148,   1,  32,  77,  74],\n",
       "       [149,   1,  34,  78,  22],\n",
       "       [150,   0,  34,  78,  90],\n",
       "       [151,   0,  43,  78,  17],\n",
       "       [152,   0,  39,  78,  88],\n",
       "       [153,   1,  44,  78,  20],\n",
       "       [154,   1,  38,  78,  76],\n",
       "       [155,   1,  47,  78,  16],\n",
       "       [156,   1,  27,  78,  89],\n",
       "       [157,   0,  37,  78,   1],\n",
       "       [158,   1,  30,  78,  78],\n",
       "       [159,   0,  34,  78,   1],\n",
       "       [160,   1,  30,  78,  73],\n",
       "       [161,   1,  56,  79,  35],\n",
       "       [162,   1,  29,  79,  83],\n",
       "       [163,   0,  19,  81,   5],\n",
       "       [164,   1,  31,  81,  93],\n",
       "       [165,   0,  50,  85,  26],\n",
       "       [166,   1,  36,  85,  75],\n",
       "       [167,   0,  42,  86,  20],\n",
       "       [168,   1,  33,  86,  95],\n",
       "       [169,   1,  36,  87,  27],\n",
       "       [170,   0,  32,  87,  63],\n",
       "       [171,   0,  40,  87,  13],\n",
       "       [172,   0,  28,  87,  75],\n",
       "       [173,   0,  36,  87,  10],\n",
       "       [174,   0,  36,  87,  92],\n",
       "       [175,   1,  52,  88,  13],\n",
       "       [176,   1,  30,  88,  86],\n",
       "       [177,   0,  58,  88,  15],\n",
       "       [178,   0,  27,  88,  69],\n",
       "       [179,   0,  59,  93,  14],\n",
       "       [180,   0,  35,  93,  90],\n",
       "       [181,   1,  37,  97,  32],\n",
       "       [182,   1,  32,  97,  86],\n",
       "       [183,   0,  46,  98,  15],\n",
       "       [184,   1,  29,  98,  88],\n",
       "       [185,   1,  41,  99,  39],\n",
       "       [186,   0,  30,  99,  97],\n",
       "       [187,   1,  54, 101,  24],\n",
       "       [188,   0,  28, 101,  68],\n",
       "       [189,   1,  41, 103,  17],\n",
       "       [190,   1,  36, 103,  85],\n",
       "       [191,   1,  34, 103,  23],\n",
       "       [192,   1,  32, 103,  69],\n",
       "       [193,   0,  33, 113,   8],\n",
       "       [194,   1,  38, 113,  91],\n",
       "       [195,   1,  47, 120,  16],\n",
       "       [196,   1,  35, 120,  79],\n",
       "       [197,   1,  45, 126,  28],\n",
       "       [198,   0,  32, 126,  74],\n",
       "       [199,   0,  32, 137,  18],\n",
       "       [200,   0,  30, 137,  83]], dtype=int64)"
      ]
     },
     "execution_count": 13,
     "metadata": {},
     "output_type": "execute_result"
    }
   ],
   "source": [
    "Datos = Mall_Customers.iloc[:, [0,1,2,3,4]].values\n",
    "Datos"
   ]
  },
  {
   "cell_type": "markdown",
   "id": "f633439b-467a-44ca-8598-056aa7ddae1b",
   "metadata": {},
   "source": [
    "**Creamos el Dendrograma del Clustering Jerarquico**"
   ]
  },
  {
   "cell_type": "code",
   "execution_count": 14,
   "id": "f43dd557-132b-4309-b239-d1c34ae2d17f",
   "metadata": {},
   "outputs": [],
   "source": [
    "Clustering_Jerarquico = linkage(Datos, 'ward') #La funcion linkage agrupa los datos en base a su similitud, utilizamos el metodo ward para agrupar los clusters"
   ]
  },
  {
   "cell_type": "code",
   "execution_count": 15,
   "id": "30fe5931-0df6-4b8d-b8d8-9368db8fd860",
   "metadata": {},
   "outputs": [
    {
     "data": {
      "image/png": "[encoded data removed]",
      "text/plain": [
       "<Figure size 640x480 with 1 Axes>"
      ]
     },
     "metadata": {},
     "output_type": "display_data"
    }
   ],
   "source": [
    "#Realizamos el grafico Jerarquico o Dendrogram\n",
    "dendrogram=sch.dendrogram(Clustering_Jerarquico)"
   ]
  },
  {
   "cell_type": "markdown",
   "id": "e7d09d6a-8592-456f-8779-61bc7131d96b",
   "metadata": {},
   "source": [
    "Creamos los clusters"
   ]
  },
  {
   "cell_type": "code",
   "execution_count": 16,
   "id": "9dfad520-fa98-4d9f-a72c-3ef466cb6b1c",
   "metadata": {},
   "outputs": [],
   "source": [
    "#Cortamos la altura a la que queremos generar los clusters, en este caso tenemos la altura t=300 en base al Clustering Jerarquico anterior\n",
    "clusters = fcluster(Clustering_Jerarquico, t=300, criterion='distance') "
   ]
  },
  {
   "cell_type": "code",
   "execution_count": 17,
   "id": "78c6defa-f63e-4792-af57-9a8098ddd506",
   "metadata": {},
   "outputs": [
    {
     "data": {
      "text/plain": [
       "array([4, 4, 4, 4, 4, 4, 4, 4, 4, 4, 4, 4, 4, 4, 4, 4, 4, 4, 4, 4, 4, 4,\n",
       "       4, 4, 4, 4, 4, 4, 4, 4, 4, 4, 4, 4, 4, 4, 4, 4, 4, 4, 4, 4, 4, 4,\n",
       "       4, 4, 4, 4, 4, 4, 4, 4, 4, 4, 4, 4, 4, 4, 4, 4, 4, 3, 4, 4, 4, 3,\n",
       "       3, 4, 3, 3, 4, 3, 4, 4, 4, 3, 3, 3, 3, 3, 4, 3, 4, 3, 3, 3, 3, 3,\n",
       "       3, 3, 3, 3, 3, 3, 3, 3, 3, 3, 3, 3, 3, 3, 3, 3, 3, 3, 3, 3, 3, 3,\n",
       "       3, 3, 3, 3, 3, 3, 3, 3, 3, 3, 3, 3, 3, 2, 1, 2, 3, 2, 1, 2, 1, 2,\n",
       "       1, 2, 1, 2, 1, 2, 1, 2, 1, 2, 1, 2, 1, 2, 1, 2, 1, 2, 1, 2, 1, 2,\n",
       "       1, 2, 1, 2, 1, 2, 1, 2, 1, 2, 1, 2, 1, 2, 1, 2, 1, 2, 1, 2, 1, 2,\n",
       "       1, 2, 1, 2, 1, 2, 1, 2, 1, 2, 1, 2, 1, 2, 1, 2, 1, 2, 1, 2, 1, 2,\n",
       "       1, 2], dtype=int32)"
      ]
     },
     "execution_count": 17,
     "metadata": {},
     "output_type": "execute_result"
    }
   ],
   "source": [
    "clusters"
   ]
  },
  {
   "cell_type": "markdown",
   "id": "942f9d34-aeda-477d-9d29-82a7c6cb13f2",
   "metadata": {},
   "source": [
    "Agregamos la clasificacion generada en el archivo original csv"
   ]
  },
  {
   "cell_type": "code",
   "execution_count": 20,
   "id": "775af1cb-ed87-445b-b3c9-e68cf4967eaf",
   "metadata": {},
   "outputs": [
    {
     "data": {
      "text/html": [
       "<div>\n",
       "<style scoped>\n",
       "    .dataframe tbody tr th:only-of-type {\n",
       "        vertical-align: middle;\n",
       "    }\n",
       "\n",
       "    .dataframe tbody tr th {\n",
       "        vertical-align: top;\n",
       "    }\n",
       "\n",
       "    .dataframe thead th {\n",
       "        text-align: right;\n",
       "    }\n",
       "</style>\n",
       "<table border=\"1\" class=\"dataframe\">\n",
       "  <thead>\n",
       "    <tr style=\"text-align: right;\">\n",
       "      <th></th>\n",
       "      <th>CustomerID</th>\n",
       "      <th>Gender</th>\n",
       "      <th>Age</th>\n",
       "      <th>Annual Income (k$)</th>\n",
       "      <th>Spending Score (1-100)</th>\n",
       "      <th>Clustering Jerarquico</th>\n",
       "      <th>Cluster</th>\n",
       "    </tr>\n",
       "  </thead>\n",
       "  <tbody>\n",
       "    <tr>\n",
       "      <th>0</th>\n",
       "      <td>1</td>\n",
       "      <td>0</td>\n",
       "      <td>19</td>\n",
       "      <td>15</td>\n",
       "      <td>39</td>\n",
       "      <td>4</td>\n",
       "      <td>4</td>\n",
       "    </tr>\n",
       "    <tr>\n",
       "      <th>1</th>\n",
       "      <td>2</td>\n",
       "      <td>0</td>\n",
       "      <td>21</td>\n",
       "      <td>15</td>\n",
       "      <td>81</td>\n",
       "      <td>4</td>\n",
       "      <td>4</td>\n",
       "    </tr>\n",
       "    <tr>\n",
       "      <th>2</th>\n",
       "      <td>3</td>\n",
       "      <td>1</td>\n",
       "      <td>20</td>\n",
       "      <td>16</td>\n",
       "      <td>6</td>\n",
       "      <td>4</td>\n",
       "      <td>4</td>\n",
       "    </tr>\n",
       "    <tr>\n",
       "      <th>3</th>\n",
       "      <td>4</td>\n",
       "      <td>1</td>\n",
       "      <td>23</td>\n",
       "      <td>16</td>\n",
       "      <td>77</td>\n",
       "      <td>4</td>\n",
       "      <td>4</td>\n",
       "    </tr>\n",
       "    <tr>\n",
       "      <th>4</th>\n",
       "      <td>5</td>\n",
       "      <td>1</td>\n",
       "      <td>31</td>\n",
       "      <td>17</td>\n",
       "      <td>40</td>\n",
       "      <td>4</td>\n",
       "      <td>4</td>\n",
       "    </tr>\n",
       "    <tr>\n",
       "      <th>...</th>\n",
       "      <td>...</td>\n",
       "      <td>...</td>\n",
       "      <td>...</td>\n",
       "      <td>...</td>\n",
       "      <td>...</td>\n",
       "      <td>...</td>\n",
       "      <td>...</td>\n",
       "    </tr>\n",
       "    <tr>\n",
       "      <th>195</th>\n",
       "      <td>196</td>\n",
       "      <td>1</td>\n",
       "      <td>35</td>\n",
       "      <td>120</td>\n",
       "      <td>79</td>\n",
       "      <td>2</td>\n",
       "      <td>2</td>\n",
       "    </tr>\n",
       "    <tr>\n",
       "      <th>196</th>\n",
       "      <td>197</td>\n",
       "      <td>1</td>\n",
       "      <td>45</td>\n",
       "      <td>126</td>\n",
       "      <td>28</td>\n",
       "      <td>1</td>\n",
       "      <td>1</td>\n",
       "    </tr>\n",
       "    <tr>\n",
       "      <th>197</th>\n",
       "      <td>198</td>\n",
       "      <td>0</td>\n",
       "      <td>32</td>\n",
       "      <td>126</td>\n",
       "      <td>74</td>\n",
       "      <td>2</td>\n",
       "      <td>2</td>\n",
       "    </tr>\n",
       "    <tr>\n",
       "      <th>198</th>\n",
       "      <td>199</td>\n",
       "      <td>0</td>\n",
       "      <td>32</td>\n",
       "      <td>137</td>\n",
       "      <td>18</td>\n",
       "      <td>1</td>\n",
       "      <td>1</td>\n",
       "    </tr>\n",
       "    <tr>\n",
       "      <th>199</th>\n",
       "      <td>200</td>\n",
       "      <td>0</td>\n",
       "      <td>30</td>\n",
       "      <td>137</td>\n",
       "      <td>83</td>\n",
       "      <td>2</td>\n",
       "      <td>2</td>\n",
       "    </tr>\n",
       "  </tbody>\n",
       "</table>\n",
       "<p>200 rows × 7 columns</p>\n",
       "</div>"
      ],
      "text/plain": [
       "     CustomerID  Gender  Age  Annual Income (k$)  Spending Score (1-100)  \\\n",
       "0             1       0   19                  15                      39   \n",
       "1             2       0   21                  15                      81   \n",
       "2             3       1   20                  16                       6   \n",
       "3             4       1   23                  16                      77   \n",
       "4             5       1   31                  17                      40   \n",
       "..          ...     ...  ...                 ...                     ...   \n",
       "195         196       1   35                 120                      79   \n",
       "196         197       1   45                 126                      28   \n",
       "197         198       0   32                 126                      74   \n",
       "198         199       0   32                 137                      18   \n",
       "199         200       0   30                 137                      83   \n",
       "\n",
       "     Clustering Jerarquico  Cluster  \n",
       "0                        4        4  \n",
       "1                        4        4  \n",
       "2                        4        4  \n",
       "3                        4        4  \n",
       "4                        4        4  \n",
       "..                     ...      ...  \n",
       "195                      2        2  \n",
       "196                      1        1  \n",
       "197                      2        2  \n",
       "198                      1        1  \n",
       "199                      2        2  \n",
       "\n",
       "[200 rows x 7 columns]"
      ]
     },
     "execution_count": 20,
     "metadata": {},
     "output_type": "execute_result"
    }
   ],
   "source": [
    "Mall_Customers['Cluster'] = clusters\n",
    "Mall_Customers"
   ]
  },
  {
   "cell_type": "code",
   "execution_count": 23,
   "id": "74f892c0-3472-4e71-afe9-5c2b2503bcf4",
   "metadata": {},
   "outputs": [
    {
     "name": "stdout",
     "output_type": "stream",
     "text": [
      "+--------------------------+---------------------+\n",
      "|          Metric          |        Value        |\n",
      "+--------------------------+---------------------+\n",
      "| Numero de Observaciones  |         200         |\n",
      "|  Coeficiente Silhouette  | 0.39082686868276073 |\n",
      "| Indice Calinski Harabasz |  240.8181521988132  |\n",
      "|  Indice Davies Bouldin   | 0.8803166315758896  |\n",
      "+--------------------------+---------------------+\n"
     ]
    }
   ],
   "source": [
    "# Desempeño del modelo con el Coeficiente de Silhouette el Índice de Calinski-Harabasz y el índice de Davies Bouldin Score\n",
    "\n",
    "# Preparación de la metrica de la columna Cluster\n",
    "Observaciones = len(Mall_Customers)\n",
    "X = Mall_Customers.drop('Cluster', axis=1)\n",
    "clusters = Mall_Customers['Cluster']\n",
    "\n",
    "# Se calculan las métricas\n",
    "sil_score = silhouette_score(X, clusters)\n",
    "calinski_score = calinski_harabasz_score(X, clusters)\n",
    "davies_score = davies_bouldin_score(X, clusters)\n",
    "\n",
    "# Se crea una tabla para mostrar los valores de las métricas\n",
    "table_data = [\n",
    "    [\"Numero de Observaciones\", Observaciones],\n",
    "    [\"Coeficiente Silhouette\", sil_score],\n",
    "    [\"Indice Calinski Harabasz\", calinski_score],\n",
    "    [\"Indice Davies Bouldin\", davies_score]\n",
    "]\n",
    "\n",
    "# Imprime la tabla\n",
    "from tabulate import tabulate\n",
    "print(tabulate(table_data, headers=[\"Metric\", \"Value\"], tablefmt='pretty'))"
   ]
  },
  {
   "cell_type": "code",
   "execution_count": 28,
   "id": "8c64d62a-2c58-401b-b15a-df870544c499",
   "metadata": {},
   "outputs": [],
   "source": [
    "#Genera un archivo csv con los datos modificados\n",
    "Mall_Customers.to_csv('Mall_Customers_Hierarchical_Clustering.csv')"
   ]
  }
 ],
 "metadata": {
  "kernelspec": {
   "display_name": "Python 3 (ipykernel)",
   "language": "python",
   "name": "python3"
  },
  "language_info": {
   "codemirror_mode": {
    "name": "ipython",
    "version": 3
   },
   "file_extension": ".py",
   "mimetype": "text/x-python",
   "name": "python",
   "nbconvert_exporter": "python",
   "pygments_lexer": "ipython3",
   "version": "3.11.7"
  }
 },
 "nbformat": 4,
 "nbformat_minor": 5
}
